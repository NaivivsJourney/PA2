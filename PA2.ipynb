{
 "cells": [
  {
   "cell_type": "markdown",
   "metadata": {},
   "source": [
    "## Python Assignment 2\n",
    "### Author : Naiviv\n",
    "### Python Crash Course\n",
    "### Fall 2023"
   ]
  },
  {
   "cell_type": "code",
   "execution_count": 5,
   "metadata": {},
   "outputs": [],
   "source": [
    "name = \"Naiviv\"\n",
    "age = 34\n",
    "height = 161\n",
    "favorite_color = \"purple\"\n",
    "\n"
   ]
  },
  {
   "cell_type": "code",
   "execution_count": 4,
   "metadata": {},
   "outputs": [
    {
     "name": "stdout",
     "output_type": "stream",
     "text": [
      "My name is Naiviv I am 34 years old, I am 161 cm tall, and my favorite color is purple\n"
     ]
    }
   ],
   "source": [
    "print (\"My name is\",name,\"I am\", age,\"years old, I am\",height,\"cm tall, and my favorite color is\", favorite_color)"
   ]
  },
  {
   "cell_type": "code",
   "execution_count": 2,
   "metadata": {},
   "outputs": [
    {
     "name": "stdout",
     "output_type": "stream",
     "text": [
      "The temperature is 22 °C, which is 71.6 °F\n"
     ]
    }
   ],
   "source": [
    "celsius_temp = 22\n",
    "fahrenheit_temp = (celsius_temp * 9/5) + 32\n",
    "print(\"The temperature is\", celsius_temp,\"°C, which is\",fahrenheit_temp, \"°F\")"
   ]
  },
  {
   "cell_type": "code",
   "execution_count": 10,
   "metadata": {},
   "outputs": [
    {
     "name": "stdout",
     "output_type": "stream",
     "text": [
      "        \"Faith and prayer are the vitamins of the soul; man cannot live in health without them.” Mahalia Jackson\n",
      "        \"FAITH AND PRAYER ARE THE VITAMINS OF THE SOUL; MAN CANNOT LIVE IN HEALTH WITHOUT THEM.” MAHALIA JACKSON\n",
      "        \"faith and prayer are the vitamins of the soul; man cannot live in health without them.” mahalia jackson\n",
      "\"Faith and prayer are the vitamins of the soul; man cannot live in health without them.” Mahalia Jackson\n",
      "['\"Faith', 'and', 'prayer', 'are', 'the', 'vitamins', 'of', 'the', 'soul;', 'man', 'cannot', 'live', 'in', 'health', 'without', 'them.”', 'Mahalia', 'Jackson']\n"
     ]
    }
   ],
   "source": [
    "quote = '        \"Faith and prayer are the vitamins of the soul; man cannot live in health without them.” Mahalia Jackson'\n",
    "print(quote)\n",
    "print(quote.upper())\n",
    "print(quote.lower())\n",
    "print(quote.strip())\n",
    "print(quote.split())"
   ]
  },
  {
   "cell_type": "code",
   "execution_count": 1,
   "metadata": {},
   "outputs": [],
   "source": [
    "num1=22\n",
    "num2=5"
   ]
  },
  {
   "cell_type": "code",
   "execution_count": 2,
   "metadata": {},
   "outputs": [
    {
     "name": "stdout",
     "output_type": "stream",
     "text": [
      "27\n"
     ]
    }
   ],
   "source": [
    "print (num1+num2)"
   ]
  },
  {
   "cell_type": "code",
   "execution_count": 3,
   "metadata": {},
   "outputs": [
    {
     "name": "stdout",
     "output_type": "stream",
     "text": [
      "-17\n"
     ]
    }
   ],
   "source": [
    "print (num2-num1)"
   ]
  },
  {
   "cell_type": "code",
   "execution_count": 4,
   "metadata": {},
   "outputs": [
    {
     "name": "stdout",
     "output_type": "stream",
     "text": [
      "110\n"
     ]
    }
   ],
   "source": [
    "print (num1*num2)"
   ]
  },
  {
   "cell_type": "code",
   "execution_count": 5,
   "metadata": {},
   "outputs": [
    {
     "name": "stdout",
     "output_type": "stream",
     "text": [
      "4.4\n"
     ]
    }
   ],
   "source": [
    "print (num1/num2)"
   ]
  },
  {
   "cell_type": "code",
   "execution_count": 8,
   "metadata": {},
   "outputs": [
    {
     "name": "stdout",
     "output_type": "stream",
     "text": [
      "Hello Trice\n"
     ]
    }
   ],
   "source": [
    "name=input(\"Enter your name:\")\n",
    "print(\"Hello\", name)"
   ]
  },
  {
   "cell_type": "code",
   "execution_count": 15,
   "metadata": {},
   "outputs": [
    {
     "name": "stdout",
     "output_type": "stream",
     "text": [
      "Sum: 130\n",
      "difference: 84\n",
      "product: 2461\n",
      "quotient: 4\n"
     ]
    }
   ],
   "source": [
    "num1=int(input(\"enter the first number:\"))\n",
    "num2=int(input(\"enter the second number:\"))\n",
    "print(\"Sum:\",num1+num2)\n",
    "print(\"difference:\",num1-num2)\n",
    "print(\"product:\",num1*num2)\n",
    "print (\"quotient:\",int(num1/num2))\n"
   ]
  },
  {
   "cell_type": "code",
   "execution_count": null,
   "metadata": {},
   "outputs": [],
   "source": []
  }
 ],
 "metadata": {
  "kernelspec": {
   "display_name": "Python 3",
   "language": "python",
   "name": "python3"
  },
  "language_info": {
   "codemirror_mode": {
    "name": "ipython",
    "version": 3
   },
   "file_extension": ".py",
   "mimetype": "text/x-python",
   "name": "python",
   "nbconvert_exporter": "python",
   "pygments_lexer": "ipython3",
   "version": "3.9.6"
  }
 },
 "nbformat": 4,
 "nbformat_minor": 2
}
